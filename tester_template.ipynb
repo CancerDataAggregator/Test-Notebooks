{
 "cells": [
  {
   "cell_type": "markdown",
   "id": "fa78e200",
   "metadata": {},
   "source": [
    "# CDA Python: Testers template\n",
    "---"
   ]
  },
  {
   "cell_type": "markdown",
   "id": "2a38ff0e-cc97-423f-94ae-ed4a9d04de2b",
   "metadata": {},
   "source": [
    "Let's start by making sure the latest version is installed. The code below will uninstall and then install the latest version of cdapython from the integration branch. The installation can be done using a specific branch by changing the name following the **\"@\"** symbol."
   ]
  },
  {
   "cell_type": "code",
   "execution_count": null,
   "id": "f408f5f1-3c81-4cf5-bddb-bbb753dec821",
   "metadata": {},
   "outputs": [],
   "source": [
    "!pip uninstall --yes cdapython \n",
    "!pip install git+https://github.com/CancerDataAggregator/cda-python.git@integration"
   ]
  },
  {
   "cell_type": "code",
   "execution_count": null,
   "id": "a6b5b31f",
   "metadata": {},
   "outputs": [],
   "source": [
    "from ipywidgets import Dropdown\n",
    "from IPython.display import display\n",
    "tester_check = Dropdown(\n",
    "    options=[True,False],\n",
    "    description='Tester:',\n",
    "    value=True,\n",
    ")\n",
    "display(tester_check)"
   ]
  },
  {
   "cell_type": "markdown",
   "id": "ba5170d1",
   "metadata": {},
   "source": [
    "The following examples illustrate some ```CDA Python``` features while providing insights into the underlying data structure (**Getting started**). To demonstrate those features, we provide a few relevant text queries along with step-by-step explanations on how to translate those into the ```CDA Python``` queries (**Example queries**). Finally, there are a few additional queries intended for the test users to play around with and send feedback to the CDA team (**Test queries**)."
   ]
  },
  {
   "cell_type": "code",
   "execution_count": null,
   "id": "4eb10b09",
   "metadata": {},
   "outputs": [],
   "source": [
    "from cdapython import Q, columns, unique_terms,query\n",
    "import cdapython\n",
    "print(cdapython.__file__)\n",
    "print(cdapython.__version__)"
   ]
  },
  {
   "cell_type": "code",
   "execution_count": null,
   "id": "5ebedfa7",
   "metadata": {},
   "outputs": [],
   "source": [
    "\n",
    "if(tester_check.value):\n",
    "    Q.set_host_url(\"http://35.192.60.10:8080/\")\n",
    "else:\n",
    "    Q.set_host_url(\"https://cda.cda-dev.broadinstitute.org\")\n",
    "\n",
    "print(Q.get_host_url())"
   ]
  }
 ],
 "metadata": {
  "interpreter": {
   "hash": "5c867d1980d5b66d2bfc8a5903dcee074b4b68f3917a4f27f8a310cab24e9f1b"
  },
  "kernelspec": {
   "display_name": "Python 3",
   "language": "python",
   "name": "python3"
  },
  "language_info": {
   "codemirror_mode": {
    "name": "ipython",
    "version": 3
   },
   "file_extension": ".py",
   "mimetype": "text/x-python",
   "name": "python",
   "nbconvert_exporter": "python",
   "pygments_lexer": "ipython3",
   "version": "3.9.5"
  },
  "metadata": {
   "interpreter": {
    "hash": "5c867d1980d5b66d2bfc8a5903dcee074b4b68f3917a4f27f8a310cab24e9f1b"
   }
  }
 },
 "nbformat": 4,
 "nbformat_minor": 5
}
