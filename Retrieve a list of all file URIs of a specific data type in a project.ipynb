{
 "cells": [
  {
   "cell_type": "markdown",
   "id": "f5cb5fdf",
   "metadata": {},
   "source": [
    "## Retrieve a list of all file URIs of a specific data type in a project\n",
    "\n",
    "The goal of this notebook is to demonstrate how to use the CDA API to retrieve file URIs which allow for bulk downloads of GDC, PDC, or IDC data. In this case we will be aiming to generate a list of all RNA expression files in TCGA-BRCA"
   ]
  },
  {
   "cell_type": "code",
   "execution_count": 6,
   "id": "428a7f7d",
   "metadata": {},
   "outputs": [
    {
     "name": "stdout",
     "output_type": "stream",
     "text": [
      "/Library/Frameworks/Python.framework/Versions/3.8/lib/python3.8/site-packages/cdapython/__init__.py\n",
      "2022.2.23\n"
     ]
    }
   ],
   "source": [
    "from pandas import json_normalize\n",
    "from cdapython import Q, columns, unique_terms,query\n",
    "import cdapython\n",
    "\n",
    "print(cdapython.__file__)\n",
    "print(cdapython.__version__)"
   ]
  },
  {
   "cell_type": "markdown",
   "id": "536e7978",
   "metadata": {},
   "source": []
  },
  {
   "cell_type": "code",
   "execution_count": null,
   "id": "9d9ba0f3",
   "metadata": {},
   "outputs": [],
   "source": []
  },
  {
   "cell_type": "code",
   "execution_count": null,
   "id": "ab573ecb",
   "metadata": {},
   "outputs": [],
   "source": []
  }
 ],
 "metadata": {
  "kernelspec": {
   "display_name": "Python 3 (ipykernel)",
   "language": "python",
   "name": "python3"
  },
  "language_info": {
   "codemirror_mode": {
    "name": "ipython",
    "version": 3
   },
   "file_extension": ".py",
   "mimetype": "text/x-python",
   "name": "python",
   "nbconvert_exporter": "python",
   "pygments_lexer": "ipython3",
   "version": "3.8.0"
  }
 },
 "nbformat": 4,
 "nbformat_minor": 5
}
