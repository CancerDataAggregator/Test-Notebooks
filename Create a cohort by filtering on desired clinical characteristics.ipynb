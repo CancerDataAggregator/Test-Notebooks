{
 "cells": [
  {
   "cell_type": "markdown",
   "id": "48f83be4",
   "metadata": {},
   "source": [
    "## Create a cohort by filtering on desired clinical characteristics\n",
    "\n",
    "This notebook demonstrates how to explore CDA hosted data and create a cohort of cases by filtering on clinical characteristics. In this case we will generate a subset of cases that meet specific age, sex, and cancer stage requirements."
   ]
  },
  {
   "cell_type": "code",
   "execution_count": 2,
   "id": "b9b84bf1-e53e-42d5-9455-42fd1bd9d1a3",
   "metadata": {},
   "outputs": [
    {
     "name": "stdout",
     "output_type": "stream",
     "text": [
      "/Library/Frameworks/Python.framework/Versions/3.8/lib/python3.8/site-packages/cdapython/__init__.py\n",
      "2022.2.23\n"
     ]
    }
   ],
   "source": [
    "from cdapython import Q, columns, unique_terms\n",
    "import cdapython\n",
    "import pandas as pd\n",
    "from collections import Counter\n",
    "print(cdapython.__file__)\n",
    "print(cdapython.__version__)"
   ]
  },
  {
   "cell_type": "code",
   "execution_count": null,
   "id": "9d9e032c-d5be-4173-835b-6da2848108b0",
   "metadata": {},
   "outputs": [],
   "source": [
    "q1 = Q('ResearchSubject.days_to_birth >= -50*365')\n",
    "q1.run()"
   ]
  },
  {
   "cell_type": "code",
   "execution_count": null,
   "id": "e9fa881b",
   "metadata": {},
   "outputs": [],
   "source": [
    "q2 = Q('ResearchSubject.Diagnosis.stage = \"Stage IV\" ')\n",
    "q2.run()"
   ]
  },
  {
   "cell_type": "code",
   "execution_count": null,
   "id": "75ead1c7",
   "metadata": {},
   "outputs": [],
   "source": [
    "q3 = Q('ResearchSubject.sex = \"Female\"')\n",
    "q3.run()"
   ]
  },
  {
   "cell_type": "code",
   "execution_count": null,
   "id": "649be97b",
   "metadata": {},
   "outputs": [],
   "source": [
    "q1.And(q2.And(q3))"
   ]
  }
 ],
 "metadata": {
  "kernelspec": {
   "display_name": "Python 3 (ipykernel)",
   "language": "python",
   "name": "python3"
  },
  "language_info": {
   "codemirror_mode": {
    "name": "ipython",
    "version": 3
   },
   "file_extension": ".py",
   "mimetype": "text/x-python",
   "name": "python",
   "nbconvert_exporter": "python",
   "pygments_lexer": "ipython3",
   "version": "3.8.0"
  }
 },
 "nbformat": 4,
 "nbformat_minor": 5
}
