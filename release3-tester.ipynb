{
 "cells": [
  {
   "cell_type": "markdown",
   "id": "fa78e200",
   "metadata": {},
   "source": [
    "# CDA Python: Features & Examples\n",
    "---"
   ]
  },
  {
   "cell_type": "code",
   "execution_count": 1,
   "id": "a6b5b31f",
   "metadata": {},
   "outputs": [
    {
     "data": {
      "application/vnd.jupyter.widget-view+json": {
       "model_id": "04c7689697104bd7aa67c92bacc448c5",
       "version_major": 2,
       "version_minor": 0
      },
      "text/plain": [
       "Dropdown(description='Tester:', options=(True, False), value=True)"
      ]
     },
     "metadata": {},
     "output_type": "display_data"
    }
   ],
   "source": [
    "from ipywidgets import Dropdown\n",
    "from IPython.display import display\n",
    "tester_check = Dropdown(\n",
    "    options=[True,False],\n",
    "    description='Tester:',\n",
    "    value=True,\n",
    ")\n",
    "display(tester_check)"
   ]
  },
  {
   "cell_type": "markdown",
   "id": "ba5170d1",
   "metadata": {},
   "source": [
    "The following examples illustrate some ```CDA Python``` features while providing insights into the underlying data structure (**Getting started**). To demonstrate those features, we provide a few relevant text queries along with step-by-step explanations on how to translate those into the ```CDA Python``` queries (**Example queries**). Finally, there are a few additional queries intended for the test users to play around with and send feedback to the CDA team (**Test queries**)."
   ]
  },
  {
   "cell_type": "code",
   "execution_count": 2,
   "id": "4eb10b09",
   "metadata": {},
   "outputs": [
    {
     "name": "stdout",
     "output_type": "stream",
     "text": [
      "/Users/elijahlowe/opt/miniconda3/envs/cda/lib/python3.9/site-packages/cdapython/__init__.py\n",
      "2022.2.23\n"
     ]
    }
   ],
   "source": [
    "from cdapython import Q, columns, unique_terms,query\n",
    "import cdapython\n",
    "print(cdapython.__file__)\n",
    "print(cdapython.__version__)"
   ]
  },
  {
   "cell_type": "code",
   "execution_count": 3,
   "id": "5ebedfa7",
   "metadata": {},
   "outputs": [
    {
     "name": "stdout",
     "output_type": "stream",
     "text": [
      "http://35.192.60.10:8080/\n"
     ]
    }
   ],
   "source": [
    "\n",
    "if(tester_check.value):\n",
    "    Q.set_host_url(\"http://35.192.60.10:8080/\")\n",
    "else:\n",
    "    Q.set_host_url(\"https://cda.cda-dev.broadinstitute.org\")\n",
    "\n",
    "print(Q.get_host_url())"
   ]
  },
  {
   "cell_type": "markdown",
   "id": "605e955f",
   "metadata": {},
   "source": [
    "# Counts\n",
    "\n",
    "We can start by getting the record for ```id = TCGA-E2-A10A``` that we mentioned earlier:"
   ]
  },
  {
   "cell_type": "code",
   "execution_count": 4,
   "id": "0983054e",
   "metadata": {},
   "outputs": [
    {
     "name": "stdout",
     "output_type": "stream",
     "text": [
      "Getting results from database\n",
      "\n",
      "Total execution time: 3452 ms\n"
     ]
    },
    {
     "data": {
      "text/plain": [
       "\n",
       "        QueryID: 1b03e942-3e1f-417d-b25c-72f08e0276d6\n",
       "        Query: SELECT\n",
       "  top_level_file.system,\n",
       "  CASE\n",
       "    WHEN subject_count IS NULL THEN 0\n",
       "    ELSE subject_count.count_file\n",
       "  END AS subject_count,\n",
       "  CASE\n",
       "    WHEN top_level_file.count_file IS NULL THEN 0\n",
       "    ELSE top_level_file.count_file\n",
       "  END AS subject_file_count,\n",
       "  CASE\n",
       "    WHEN researchsubject_count.count_researchsubject IS NULL THEN 0\n",
       "    ELSE researchsubject_count.count_researchsubject\n",
       "  END AS researchsubject_count,\n",
       "  CASE\n",
       "    WHEN researchsubject_file_count.count_researchsubject IS NULL THEN 0\n",
       "    ELSE researchsubject_file_count.count_researchsubject\n",
       "  END AS researchsubject_file_count,\n",
       "  CASE\n",
       "    WHEN specimen_count.count_specimen IS NULL THEN 0\n",
       "    ELSE specimen_count.count_specimen\n",
       "  END AS specimen_count,\n",
       "  CASE\n",
       "    WHEN specimen_file_count.count_file IS NULL THEN 0\n",
       "    ELSE specimen_file_count.count_file\n",
       "  END AS specimen_file_count\n",
       "FROM\n",
       "  (\n",
       "    SELECT\n",
       "      _file_identifier.system,\n",
       "      COUNT(_file_identifier.value) AS count_file\n",
       "    FROM\n",
       "      gdc-bq-sample.integration.all_v2_1 AS all_v2_1,\n",
       "      UNNEST(all_v2_1.File) AS _File,\n",
       "      UNNEST(_File.identifier) AS _file_identifier\n",
       "    WHERE\n",
       "      (UPPER(all_v2_1.id) = UPPER('TCGA-E2-A10A'))\n",
       "    GROUP BY\n",
       "      _file_identifier.system\n",
       "  ) AS top_level_file\n",
       "  LEFT OUTER JOIN (\n",
       "    SELECT\n",
       "      _identifier.system,\n",
       "      COUNT(_identifier.value) AS count_researchsubject\n",
       "    FROM\n",
       "      gdc-bq-sample.integration.all_v2_1 AS all_v2_1,\n",
       "      UNNEST(ResearchSubject) AS _ResearchSubject,\n",
       "      UNNEST(_ResearchSubject.identifier) AS _identifier\n",
       "    WHERE\n",
       "      (UPPER(all_v2_1.id) = UPPER('TCGA-E2-A10A'))\n",
       "    GROUP BY\n",
       "      _identifier.system\n",
       "  ) AS researchsubject_count ON researchsubject_count.system = top_level_file.system\n",
       "  LEFT OUTER JOIN (\n",
       "    SELECT\n",
       "      _file_identifier.system,\n",
       "      COUNT(_file_identifier.value) AS count_researchsubject\n",
       "    FROM\n",
       "      gdc-bq-sample.integration.all_v2_1 AS all_v2_1,\n",
       "      UNNEST(ResearchSubject) AS _ResearchSubject,\n",
       "      UNNEST(_ResearchSubject.File) AS _researchsubject_file,\n",
       "      UNNEST(_researchsubject_file.identifier) AS _file_identifier\n",
       "    WHERE\n",
       "      (UPPER(all_v2_1.id) = UPPER('TCGA-E2-A10A'))\n",
       "    GROUP BY\n",
       "      _file_identifier.system\n",
       "  ) AS researchsubject_file_count ON researchsubject_file_count.system = top_level_file.system\n",
       "  LEFT OUTER JOIN (\n",
       "    SELECT\n",
       "      _identifier.system,\n",
       "      COUNT(_identifier.value) AS count_specimen\n",
       "    FROM\n",
       "      gdc-bq-sample.integration.all_v2_1 AS all_v2_1,\n",
       "      UNNEST(ResearchSubject) AS _ResearchSubject,\n",
       "      UNNEST(_ResearchSubject.Specimen) AS _Specimen,\n",
       "      UNNEST(_Specimen.identifier) AS _identifier\n",
       "    WHERE\n",
       "      (UPPER(all_v2_1.id) = UPPER('TCGA-E2-A10A'))\n",
       "    GROUP BY\n",
       "      _identifier.system\n",
       "  ) AS specimen_count ON specimen_count.system = top_level_file.system\n",
       "  LEFT OUTER JOIN (\n",
       "    SELECT\n",
       "      _file_identifier.system,\n",
       "      COUNT(_file_identifier.value) AS count_file\n",
       "    FROM\n",
       "      gdc-bq-sample.integration.all_v2_1 AS all_v2_1,\n",
       "      UNNEST(ResearchSubject) AS _ResearchSubject,\n",
       "      UNNEST(_ResearchSubject.Specimen) AS _Specimen,\n",
       "      UNNEST(_Specimen.File) AS _File,\n",
       "      UNNEST(_File.identifier) AS _file_identifier\n",
       "    WHERE\n",
       "      (UPPER(all_v2_1.id) = UPPER('TCGA-E2-A10A'))\n",
       "    GROUP BY\n",
       "      _file_identifier.system\n",
       "  ) AS specimen_file_count ON specimen_file_count.system = top_level_file.system\n",
       "  LEFT OUTER JOIN (\n",
       "    SELECT\n",
       "      _identifier.system,\n",
       "      COUNT(_identifier.value) AS count_file\n",
       "    FROM\n",
       "      gdc-bq-sample.integration.all_v2_1 AS all_v2_1,\n",
       "      UNNEST(identifier) AS _identifier\n",
       "    WHERE\n",
       "      (UPPER(all_v2_1.id) = UPPER('TCGA-E2-A10A'))\n",
       "    GROUP BY\n",
       "      _identifier.system\n",
       "  ) AS subject_count ON subject_count.system = top_level_file.system\n",
       "        Offset: 0\n",
       "        Count: 2\n",
       "        Total Row Count: 2\n",
       "        Total Database Counts:\n",
       "\n",
       "\tsystem Count: GDC \n",
       " \tsubject_count Count: 1 \n",
       " \tsubject_file_count Count: 59 \n",
       " \tresearchsubject_count Count: 1 \n",
       " \tresearchsubject_file_count Count: 59 \n",
       " \tspecimen_count Count: 28 \n",
       " \tspecimen_file_count Count: 277 \n",
       " \tsystem Count: PDC \n",
       " \tsubject_count Count: 1 \n",
       " \tsubject_file_count Count: 151 \n",
       " \tresearchsubject_count Count: 1 \n",
       " \tresearchsubject_file_count Count: 151 \n",
       " \tspecimen_count Count: 2 \n",
       " \tspecimen_file_count Count: 302 \n",
       " \t\n",
       "        More pages: False\n",
       "        "
      ]
     },
     "execution_count": 4,
     "metadata": {},
     "output_type": "execute_result"
    }
   ],
   "source": [
    "q = Q('id = \"TCGA-E2-A10A\"') # note the double quotes for the string value\n",
    "\n",
    "r = q.run()\n",
    "\n",
    "\n",
    "q.counts()\n"
   ]
  },
  {
   "cell_type": "markdown",
   "id": "48d93e59-f68b-4c01-88a1-e481c7d91c05",
   "metadata": {},
   "source": [
    "- The text needs correcting, `specimen_count Count`. \n",
    "- PDC has duplicates at the specimen level as indicated by `specimen_count Count: 2`\n",
    "- SQL output should have a option to be hidden"
   ]
  },
  {
   "cell_type": "markdown",
   "id": "3afabff3",
   "metadata": {},
   "source": [
    "### Zero counts breaks everything"
   ]
  },
  {
   "cell_type": "code",
   "execution_count": 5,
   "id": "5ac4e77a",
   "metadata": {
    "scrolled": true
   },
   "outputs": [
    {
     "name": "stdout",
     "output_type": "stream",
     "text": [
      "(500)\n",
      "Reason: \n",
      "HTTP response headers: HTTPHeaderDict({'Content-Type': 'application/json', 'Transfer-Encoding': 'chunked', 'Date': 'Wed, 23 Feb 2022 16:30:00 GMT', 'Connection': 'close'})\n",
      "HTTP response body: {\"message\":\"Unrecognized name: _Specimen at [37:8]\",\"statusCode\":500,\"causes\":[\"Unrecognized name: _Specimen at [37:8]\",\"400 Bad Request\\nGET https://www.googleapis.com/bigquery/v2/projects/gdc-bq-sample/queries/7a40fd48-0f33-464f-bf7a-db0ffadd92f6?location=US&maxResults=0&prettyPrint=false\\n{\\n  \\\"code\\\" : 400,\\n  \\\"errors\\\" : [ {\\n    \\\"domain\\\" : \\\"global\\\",\\n    \\\"location\\\" : \\\"q\\\",\\n    \\\"locationType\\\" : \\\"parameter\\\",\\n    \\\"message\\\" : \\\"Unrecognized name: _Specimen at [37:8]\\\",\\n    \\\"reason\\\" : \\\"invalidQuery\\\"\\n  } ],\\n  \\\"message\\\" : \\\"Unrecognized name: _Specimen at [37:8]\\\",\\n  \\\"status\\\" : \\\"INVALID_ARGUMENT\\\"\\n}\"]}\n",
      "\n",
      "None\n"
     ]
    }
   ],
   "source": [
    "q1 = Q('ResearchSubject.Specimen.primary_disease_type = \"Nevi and Melanomas\"')\n",
    "\n",
    "q = q1\n",
    "r = q.counts()\n",
    "\n",
    "print(r)"
   ]
  },
  {
   "cell_type": "markdown",
   "id": "f402031b",
   "metadata": {},
   "source": [
    "# Case sensitivity"
   ]
  },
  {
   "cell_type": "code",
   "execution_count": 6,
   "id": "b72ee0ce",
   "metadata": {},
   "outputs": [
    {
     "name": "stdout",
     "output_type": "stream",
     "text": [
      "Getting results from database\n",
      "\n",
      "Total execution time: 3379 ms\n",
      "Getting results from database\n",
      "\n",
      "Total execution time: 3298 ms\n"
     ]
    },
    {
     "data": {
      "text/plain": [
       "\n",
       "        QueryID: 17696c7c-a5b8-46bc-93af-0a789a9f2ec3\n",
       "        Query: SELECT all_v2_1.* FROM gdc-bq-sample.integration.all_v2_1 AS all_v2_1 WHERE (UPPER(all_v2_1.id) = UPPER('tcga-E2-A10A'))\n",
       "        Offset: 0\n",
       "        Count: 1\n",
       "        Total Row Count: 1\n",
       "        GDC Count: 59 \n",
       " \tPDC Count: 151 \n",
       " \tIDC Count: 0\n",
       "        More pages: False\n",
       "        "
      ]
     },
     "execution_count": 6,
     "metadata": {},
     "output_type": "execute_result"
    }
   ],
   "source": [
    "q = Q('id = \"tcga-E2-A10A\"') # note the double quotes for the string value\n",
    "\n",
    "r = q.run()\n",
    "\n",
    "q.run()"
   ]
  },
  {
   "cell_type": "code",
   "execution_count": 7,
   "id": "c7fdc831-134a-45fc-81a8-14c9ea31ee8d",
   "metadata": {},
   "outputs": [
    {
     "name": "stdout",
     "output_type": "stream",
     "text": [
      " This Value ResearchSubject.Diagnosis.tumor_stage has been deprecated but will be converted it for you in the background please use the new value ResearchSubject.Diagnosis.stage\n",
      "Getting results from database\n",
      "\n",
      "Total execution time: 10424 ms\n",
      "\n",
      "        QueryID: 6c17be1c-2cc4-4e3f-8c87-3476c682e754\n",
      "        Query: SELECT all_v2_1.* FROM gdc-bq-sample.integration.all_v2_1 AS all_v2_1, UNNEST(ResearchSubject) AS _ResearchSubject, UNNEST(_ResearchSubject.Diagnosis) AS _Diagnosis WHERE (_Diagnosis.stage = UPPER('Stage IV'))\n",
      "        Offset: 0\n",
      "        Count: 0\n",
      "        Total Row Count: 0\n",
      "        No counts could be found\n",
      "        More pages: False\n",
      "        \n"
     ]
    }
   ],
   "source": [
    "StageIV = Q('ResearchSubject.Diagnosis.tumor_stage = \"Stage IV\"')\n",
    "r = StageIV.run()\n",
    "print(r)"
   ]
  },
  {
   "cell_type": "code",
   "execution_count": 8,
   "id": "f7ccccad-d12f-48b3-933b-70611aca8e8b",
   "metadata": {},
   "outputs": [
    {
     "name": "stdout",
     "output_type": "stream",
     "text": [
      " This Value ResearchSubject.Diagnosis.tumor_stage has been deprecated but will be converted it for you in the background please use the new value ResearchSubject.Diagnosis.stage\n",
      "Getting results from database\n",
      "\n",
      "Total execution time: 28175 ms\n",
      "\n",
      "        QueryID: 4f138bfa-abb1-4884-8028-55625b8d3307\n",
      "        Query: SELECT all_v2_1.* FROM gdc-bq-sample.integration.all_v2_1 AS all_v2_1, UNNEST(ResearchSubject) AS _ResearchSubject, UNNEST(_ResearchSubject.Diagnosis) AS _Diagnosis WHERE (_Diagnosis.stage = 'Stage IIIC')\n",
      "        Offset: 0\n",
      "        Count: 92\n",
      "        Total Row Count: 92\n",
      "        GDC Count: 3112 \n",
      " \tPDC Count: 12434 \n",
      " \tIDC Count: 3243\n",
      "        More pages: False\n",
      "        \n"
     ]
    }
   ],
   "source": [
    "stage = Q('ResearchSubject.Diagnosis.tumor_stage = \"Stage IIIC\"')\n",
    "r = stage.run(host = 'https://cda.cda-dev.broadinstitute.org')\n",
    "print(r)"
   ]
  },
  {
   "cell_type": "code",
   "execution_count": 14,
   "id": "8d139e72-b27e-4537-92fb-4edb90df6d8f",
   "metadata": {},
   "outputs": [
    {
     "name": "stdout",
     "output_type": "stream",
     "text": [
      "Getting results from database\n",
      "\n",
      "Total execution time: 3187 ms\n",
      "\n",
      "        QueryID: 5afa2759-7a9d-40d7-99d6-185fadd936d1\n",
      "        Query: SELECT all_v2_1.* FROM gdc-bq-sample.integration.all_v2_1 AS all_v2_1, UNNEST(ResearchSubject) AS _ResearchSubject, UNNEST(_ResearchSubject.Diagnosis) AS _Diagnosis WHERE (_Diagnosis.stage = UPPER('Stage IIIC'))\n",
      "        Offset: 0\n",
      "        Count: 0\n",
      "        Total Row Count: 0\n",
      "        No counts could be found\n",
      "        More pages: False\n",
      "        \n"
     ]
    }
   ],
   "source": [
    "stage = Q('ResearchSubject.Diagnosis.stage = \"Stage IIIC\"')\n",
    "r = stage.run()\n",
    "print(r)"
   ]
  },
  {
   "cell_type": "markdown",
   "id": "a5baf7b7-9104-4287-a09a-e5da7d9947a7",
   "metadata": {},
   "source": [
    "case senitivity seems to break at stages"
   ]
  },
  {
   "cell_type": "markdown",
   "id": "f0cd7b7c-d30b-439e-affb-3477657dc49f",
   "metadata": {},
   "source": [
    "# Backwards compatibility"
   ]
  },
  {
   "cell_type": "code",
   "execution_count": 7,
   "id": "9b8e5727-5f58-47b4-bd85-e5b0f4521b2e",
   "metadata": {},
   "outputs": [
    {
     "name": "stdout",
     "output_type": "stream",
     "text": [
      " This Value ResearchSubject.Diagnosis.tumor_stage has been deprecated but will be converted it for you in the background please use the new value ResearchSubject.Diagnosis.stage\n"
     ]
    },
    {
     "data": {
      "text/plain": [
       "[None,\n",
       " 'IA',\n",
       " 'IB',\n",
       " 'IIA',\n",
       " 'IIB',\n",
       " 'IIIA',\n",
       " 'IIIB',\n",
       " 'IV',\n",
       " 'IVB',\n",
       " 'N/A',\n",
       " 'Not Performed',\n",
       " 'Not Received',\n",
       " 'Not Reported',\n",
       " 'Not Reported/ Unknown',\n",
       " 'Not Reported/Unknown',\n",
       " 'Stage 1B',\n",
       " 'Stage I',\n",
       " 'Stage IA',\n",
       " 'Stage IA3',\n",
       " 'Stage IB',\n",
       " 'Stage IC',\n",
       " 'Stage II',\n",
       " 'Stage IIA',\n",
       " 'Stage IIB',\n",
       " 'Stage III',\n",
       " 'Stage IIIA',\n",
       " 'Stage IIIB',\n",
       " 'Stage IIIC',\n",
       " 'Stage IV',\n",
       " 'Stage IVA',\n",
       " 'Stage1',\n",
       " 'Unknown',\n",
       " 'no resection',\n",
       " 'pT1',\n",
       " 'pT1a',\n",
       " 'pT1b',\n",
       " 'pT2 N0',\n",
       " 'pT2, pN2, pM not applicable',\n",
       " 'pT2N1',\n",
       " 'pT2N2',\n",
       " 'pT3 N2 M(Not Applicable)',\n",
       " 'pT3a',\n",
       " 'pT4']"
      ]
     },
     "execution_count": 7,
     "metadata": {},
     "output_type": "execute_result"
    }
   ],
   "source": [
    "unique_terms('ResearchSubject.Diagnosis.tumor_stage')"
   ]
  },
  {
   "cell_type": "markdown",
   "id": "1c4515a2-d9c3-447b-8e87-3b67ca6cce5e",
   "metadata": {},
   "source": [
    "Backwards compatibility doesn't work for `unique_terms()`"
   ]
  },
  {
   "cell_type": "code",
   "execution_count": 11,
   "id": "aed4f55d-cdc6-4ef6-82cb-5cb9617c3b04",
   "metadata": {},
   "outputs": [
    {
     "data": {
      "text/plain": [
       "[None,\n",
       " 'IA',\n",
       " 'IB',\n",
       " 'IIA',\n",
       " 'IIB',\n",
       " 'IIIA',\n",
       " 'IIIB',\n",
       " 'IV',\n",
       " 'IVB',\n",
       " 'N/A',\n",
       " 'Not Performed',\n",
       " 'Not Received',\n",
       " 'Not Reported',\n",
       " 'Not Reported/ Unknown',\n",
       " 'Not Reported/Unknown',\n",
       " 'Stage 1B',\n",
       " 'Stage I',\n",
       " 'Stage IA',\n",
       " 'Stage IA3',\n",
       " 'Stage IB',\n",
       " 'Stage IC',\n",
       " 'Stage II',\n",
       " 'Stage IIA',\n",
       " 'Stage IIB',\n",
       " 'Stage III',\n",
       " 'Stage IIIA',\n",
       " 'Stage IIIB',\n",
       " 'Stage IIIC',\n",
       " 'Stage IV',\n",
       " 'Stage IVA',\n",
       " 'Stage1',\n",
       " 'Unknown',\n",
       " 'no resection',\n",
       " 'pT1',\n",
       " 'pT1a',\n",
       " 'pT1b',\n",
       " 'pT2 N0',\n",
       " 'pT2, pN2, pM not applicable',\n",
       " 'pT2N1',\n",
       " 'pT2N2',\n",
       " 'pT3 N2 M(Not Applicable)',\n",
       " 'pT3a',\n",
       " 'pT4']"
      ]
     },
     "execution_count": 11,
     "metadata": {},
     "output_type": "execute_result"
    }
   ],
   "source": [
    "unique_terms('ResearchSubject.Diagnosis.stage')"
   ]
  },
  {
   "cell_type": "code",
   "execution_count": 8,
   "id": "121aeade-799c-4fc2-ab44-7ba9161b1e5f",
   "metadata": {},
   "outputs": [
    {
     "name": "stdout",
     "output_type": "stream",
     "text": [
      " This Value ResearchSubject.associated_project has been deprecated but will be converted it for you in the background please use the new value ResearchSubject.member_of_research_project\n",
      "Getting results from database\n",
      "\n",
      "Total execution time: 56063 ms\n",
      "\n",
      "        QueryID: 1e5601e9-5e65-416c-bf9f-9be5dfc3ae40\n",
      "        Query: SELECT all_v2_1.* FROM gdc-bq-sample.integration.all_v2_1 AS all_v2_1, UNNEST(ResearchSubject) AS _ResearchSubject, UNNEST(_ResearchSubject.Diagnosis) AS _Diagnosis WHERE ((_Diagnosis.age_at_diagnosis > 50*365) AND (_ResearchSubject.member_of_research_project = UPPER('TCGA-OV')))\n",
      "        Offset: 0\n",
      "        Count: 100\n",
      "        Total Row Count: 461\n",
      "        GDC Count: 5197 \n",
      " \tPDC Count: 4833 \n",
      " \tIDC Count: 10505\n",
      "        More pages: True\n",
      "        \n"
     ]
    }
   ],
   "source": [
    "q1 = Q('ResearchSubject.Diagnosis.age_at_diagnosis > 50*365')\n",
    "q2 = Q('ResearchSubject.associated_project = \"TCGA-OV\"')\n",
    "q = q1.And(q2)\n",
    "r = q.run()\n",
    "print(r)"
   ]
  },
  {
   "cell_type": "code",
   "execution_count": null,
   "id": "d8ca3886-4a2c-41c6-970f-5f58c151bd8d",
   "metadata": {},
   "outputs": [],
   "source": []
  }
 ],
 "metadata": {
  "interpreter": {
   "hash": "5c867d1980d5b66d2bfc8a5903dcee074b4b68f3917a4f27f8a310cab24e9f1b"
  },
  "kernelspec": {
   "display_name": "Python 3",
   "language": "python",
   "name": "python3"
  },
  "language_info": {
   "codemirror_mode": {
    "name": "ipython",
    "version": 3
   },
   "file_extension": ".py",
   "mimetype": "text/x-python",
   "name": "python",
   "nbconvert_exporter": "python",
   "pygments_lexer": "ipython3",
   "version": "3.9.5"
  },
  "metadata": {
   "interpreter": {
    "hash": "5c867d1980d5b66d2bfc8a5903dcee074b4b68f3917a4f27f8a310cab24e9f1b"
   }
  }
 },
 "nbformat": 4,
 "nbformat_minor": 5
}
