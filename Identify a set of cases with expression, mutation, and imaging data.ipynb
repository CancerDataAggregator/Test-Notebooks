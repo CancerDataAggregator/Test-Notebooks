{
 "cells": [
  {
   "cell_type": "markdown",
   "id": "35c21f0b",
   "metadata": {},
   "source": [
    "## Identify a set of cases with expression, mutation, and imaging data\n",
    "\n",
    "This notebook demonstrates how to find the subset of cases with a given cancer type, in this case kidney cancer, that have available RNA expression, somatic mutation, and pathology data."
   ]
  },
  {
   "cell_type": "code",
   "execution_count": 1,
   "id": "b9b84bf1-e53e-42d5-9455-42fd1bd9d1a3",
   "metadata": {},
   "outputs": [
    {
     "name": "stdout",
     "output_type": "stream",
     "text": [
      "/Library/Frameworks/Python.framework/Versions/3.8/lib/python3.8/site-packages/cdapython/__init__.py\n",
      "2022.2.23\n"
     ]
    }
   ],
   "source": [
    "from cdapython import Q, columns, unique_terms\n",
    "import cdapython\n",
    "import pandas as pd\n",
    "from collections import Counter\n",
    "print(cdapython.__file__)\n",
    "print(cdapython.__version__)"
   ]
  },
  {
   "cell_type": "code",
   "execution_count": 3,
   "id": "007c8bbe",
   "metadata": {},
   "outputs": [
    {
     "name": "stdout",
     "output_type": "stream",
     "text": [
      "HTTPSConnectionPool(host='cda.cda-dev.broadinstitute.org', port=443): Max retries exceeded with url: /api/v1/unique-values/all_v2_1?system=&table=integration (Caused by SSLError(SSLCertVerificationError(1, '[SSL: CERTIFICATE_VERIFY_FAILED] certificate verify failed: unable to get local issuer certificate (_ssl.c:1108)')))\n"
     ]
    }
   ],
   "source": [
    "unique_terms('ResearchSubject.primary_diagnosis_site')"
   ]
  }
 ],
 "metadata": {
  "kernelspec": {
   "display_name": "Python 3 (ipykernel)",
   "language": "python",
   "name": "python3"
  },
  "language_info": {
   "codemirror_mode": {
    "name": "ipython",
    "version": 3
   },
   "file_extension": ".py",
   "mimetype": "text/x-python",
   "name": "python",
   "nbconvert_exporter": "python",
   "pygments_lexer": "ipython3",
   "version": "3.8.0"
  }
 },
 "nbformat": 4,
 "nbformat_minor": 5
}
